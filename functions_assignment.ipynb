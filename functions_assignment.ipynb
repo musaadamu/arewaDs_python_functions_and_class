{
 "cells": [
  {
   "cell_type": "markdown",
   "metadata": {},
   "source": [
    "### Try it yoursellf 8-1, 8-2"
   ]
  },
  {
   "cell_type": "code",
   "execution_count": 2,
   "metadata": {},
   "outputs": [
    {
     "name": "stdout",
     "output_type": "stream",
     "text": [
      "Hi! every one, i am learning about functions\n"
     ]
    }
   ],
   "source": [
    "def display_message():\n",
    "    print('Hi! every one, i am learning about functions')\n",
    "display_message()"
   ]
  },
  {
   "cell_type": "code",
   "execution_count": 3,
   "metadata": {},
   "outputs": [
    {
     "name": "stdout",
     "output_type": "stream",
     "text": [
      "One of my favorite books called Wondweland\n"
     ]
    }
   ],
   "source": [
    "def favorite_book(title):\n",
    "    print(f\"One of my favorite books called {title}\")\n",
    "    \n",
    "favorite_book('Wondweland')"
   ]
  },
  {
   "cell_type": "markdown",
   "metadata": {},
   "source": [
    "### Try it your self 8-3 to 8-5"
   ]
  },
  {
   "cell_type": "code",
   "execution_count": 4,
   "metadata": {},
   "outputs": [
    {
     "name": "stdout",
     "output_type": "stream",
     "text": [
      "The size of the hirt is:23, and it has The Great Wonders of the World printed on it\n"
     ]
    }
   ],
   "source": [
    "def make_shirt(size, text):\n",
    "    summary = f\"The size of the hirt is:{size}, and it has {text} printed on it\"\n",
    "    print(summary)\n",
    "\n",
    "make_shirt(23, \"The Great Wonders of the World\")"
   ]
  },
  {
   "cell_type": "code",
   "execution_count": 5,
   "metadata": {},
   "outputs": [
    {
     "name": "stdout",
     "output_type": "stream",
     "text": [
      "The size of the hirt is:70, and it has I love python printed on it\n"
     ]
    }
   ],
   "source": [
    "def make_shirt(size, text):\n",
    "    summary = f\"The size of the hirt is:{size}, and it has {text} printed on it\"\n",
    "    print(summary)\n",
    "\n",
    "make_shirt(70, \"I love python\")"
   ]
  },
  {
   "cell_type": "code",
   "execution_count": 6,
   "metadata": {},
   "outputs": [
    {
     "name": "stdout",
     "output_type": "stream",
     "text": [
      "The size of the hirt is:150, and it has I love python printed on it\n"
     ]
    }
   ],
   "source": [
    "def make_shirt(size, text):\n",
    "    summary = f\"The size of the hirt is:{size}, and it has {text} printed on it\"\n",
    "    print(summary)\n",
    "\n",
    "make_shirt(150, \"I love python\")"
   ]
  },
  {
   "cell_type": "code",
   "execution_count": 7,
   "metadata": {},
   "outputs": [
    {
     "name": "stdout",
     "output_type": "stream",
     "text": [
      "The size of the hirt is:200, and it has Learning is not quite easy printed on it\n"
     ]
    }
   ],
   "source": [
    "def make_shirt(size, text):\n",
    "    summary = f\"The size of the hirt is:{size}, and it has {text} printed on it\"\n",
    "    print(summary)\n",
    "\n",
    "make_shirt(200, \"Learning is not quite easy\")"
   ]
  },
  {
   "cell_type": "code",
   "execution_count": 8,
   "metadata": {},
   "outputs": [
    {
     "name": "stdout",
     "output_type": "stream",
     "text": [
      "Potiskum is in Nigeria\n",
      "Kano is in Nigeria\n",
      "Maiduguri is in Nigeria\n",
      "Akra is in Ghana\n"
     ]
    }
   ],
   "source": [
    "def describe_city(city, country=\"Nigeria\"):\n",
    "    print(f\"{city} is in {country}\")\n",
    "    \n",
    "\n",
    "describe_city('Potiskum')\n",
    "describe_city('Kano')\n",
    "describe_city('Maiduguri')\n",
    "describe_city('Akra', 'Ghana')"
   ]
  },
  {
   "cell_type": "markdown",
   "metadata": {},
   "source": [
    "### Try it yourself 8-6 to 8-8"
   ]
  },
  {
   "cell_type": "code",
   "execution_count": 10,
   "metadata": {},
   "outputs": [
    {
     "name": "stdout",
     "output_type": "stream",
     "text": [
      "Potiskum, Nigeria\n",
      "Kano, Nigeria\n",
      "Maiduguri, Nigeria\n"
     ]
    }
   ],
   "source": [
    "def city_country(city, country):\n",
    "    city_country=f\"{city}, {country}\"\n",
    "    return city_country\n",
    "\n",
    "country_and_city1 = city_country(\"Potiskum\", \"Nigeria\")\n",
    "country_and_city2 = city_country(\"Kano\", \"Nigeria\")\n",
    "country_and_city3 = city_country(\"Maiduguri\", \"Nigeria\")\n",
    "print(country_and_city1)\n",
    "print(country_and_city2)\n",
    "print(country_and_city3)"
   ]
  },
  {
   "cell_type": "code",
   "execution_count": 11,
   "metadata": {},
   "outputs": [
    {
     "name": "stdout",
     "output_type": "stream",
     "text": [
      "{'name':thriller, 'title': machael Jackson} {'name':fashion, 'title': machael} {'name':the house, 'title': Jackson}\n"
     ]
    }
   ],
   "source": [
    "def make_album(album_name, album_title):\n",
    "    artist_and_album = f\"{{'name':{album_name}, 'title': {album_title}}}\"\n",
    "    return artist_and_album\n",
    "    \n",
    "caller1=make_album(\"thriller\", \"machael Jackson\")\n",
    "caller2=make_album(\"fashion\", \"machael\")\n",
    "caller3=make_album(\"the house\", \"Jackson\")\n",
    "print(caller1,caller2, caller3)"
   ]
  },
  {
   "cell_type": "code",
   "execution_count": 12,
   "metadata": {},
   "outputs": [
    {
     "name": "stdout",
     "output_type": "stream",
     "text": [
      "{'name':thriller, 'title': machael Jackson} {'name':fashion, 'title': machael} {'name':the house, 'title': Jackson, 'number':30 }\n"
     ]
    }
   ],
   "source": [
    "def make_album(album_name, album_title, number_song=None):\n",
    "    if number_song:\n",
    "        artist_and_album = f\"{{'name':{album_name}, 'title': {album_title}, 'number':{number_song} }}\"\n",
    "    else:\n",
    "        artist_and_album = f\"{{'name':{album_name}, 'title': {album_title}}}\"\n",
    "    return artist_and_album\n",
    "    \n",
    "caller1=make_album(\"thriller\", \"machael Jackson\")\n",
    "caller2=make_album(\"fashion\", \"machael\")\n",
    "caller3=make_album(\"the house\", \"Jackson\", 30)\n",
    "print(caller1,caller2, caller3)"
   ]
  },
  {
   "cell_type": "code",
   "execution_count": 13,
   "metadata": {},
   "outputs": [
    {
     "name": "stdout",
     "output_type": "stream",
     "text": [
      "{'name':jackson, 'title': thriller}\n"
     ]
    }
   ],
   "source": [
    "def make_album(album_name, album_title, number_song=None):\n",
    "    if number_song:\n",
    "        artist_and_album = f\"{{'name':{album_name}, 'title': {album_title}, 'number':{number_song} }}\"\n",
    "    else:\n",
    "        artist_and_album = f\"{{'name':{album_name}, 'title': {album_title}}}\"\n",
    "    return artist_and_album\n",
    "    \n",
    "album_artist = input(\"Insert the album artist: \")\n",
    "album_title = input(\"Insert the album title\")\n",
    "while album_artist and album_title:\n",
    "    print(make_album(album_artist, album_title))\n",
    "    break\n",
    "    "
   ]
  },
  {
   "cell_type": "markdown",
   "metadata": {},
   "source": [
    "### Try it yourself 8-9 to 8-11"
   ]
  },
  {
   "cell_type": "code",
   "execution_count": 14,
   "metadata": {},
   "outputs": [
    {
     "name": "stdout",
     "output_type": "stream",
     "text": [
      "reading a book\n",
      "copying the content of a book\n",
      "storing the records\n",
      "giving out for charity\n"
     ]
    }
   ],
   "source": [
    "list= [\"reading a book\", \"copying the content of a book\", \"storing the records\", \"giving out for charity\"]\n",
    "def show_messages(messages):\n",
    "    for message in messages:\n",
    "        print(message)\n",
    "\n",
    "show_messages(list)"
   ]
  },
  {
   "cell_type": "code",
   "execution_count": 15,
   "metadata": {},
   "outputs": [
    {
     "name": "stdout",
     "output_type": "stream",
     "text": [
      "reading a book\n",
      "copying the content of a book\n",
      "storing the records\n",
      "giving out for charity\n",
      "copying the content of a book\n",
      "storing the records\n",
      "giving out for charity\n",
      "storing the records\n",
      "giving out for charity\n",
      "giving out for charity\n",
      "[]\n"
     ]
    }
   ],
   "source": [
    "def show_messages(messages):\n",
    "    for message in messages:\n",
    "        print(message)\n",
    "\n",
    "def send_messages(messages):\n",
    "    while messages:\n",
    "        show_messages(messages)\n",
    "        messages.pop(0)\n",
    "\n",
    "my_list = [\"reading a book\", \"copying the content of a book\", \"storing the records\", \"giving out for charity\"]\n",
    "send_messages(my_list)\n",
    "print(my_list)"
   ]
  },
  {
   "cell_type": "code",
   "execution_count": 16,
   "metadata": {},
   "outputs": [
    {
     "name": "stdout",
     "output_type": "stream",
     "text": [
      "reading a book\n",
      "copying the content of a book\n",
      "storing the records\n",
      "giving out for charity\n",
      "copying the content of a book\n",
      "storing the records\n",
      "giving out for charity\n",
      "storing the records\n",
      "giving out for charity\n",
      "giving out for charity\n",
      "['reading a book', 'copying the content of a book', 'storing the records', 'giving out for charity']\n"
     ]
    }
   ],
   "source": [
    "def show_messages(messages):\n",
    "    for message in messages:\n",
    "        print(message)\n",
    "\n",
    "def send_messages(messages):\n",
    "    while messages:\n",
    "        show_messages(messages)\n",
    "        messages.pop(0)\n",
    "\n",
    "my_list = [\"reading a book\", \"copying the content of a book\", \"storing the records\", \"giving out for charity\"]\n",
    "my_list2 = my_list[:]\n",
    "send_messages(my_list2)\n",
    "print(my_list)"
   ]
  },
  {
   "cell_type": "markdown",
   "metadata": {},
   "source": [
    "### Try it yourself 8-12 to 8-14"
   ]
  },
  {
   "cell_type": "code",
   "execution_count": 17,
   "metadata": {},
   "outputs": [
    {
     "name": "stdout",
     "output_type": "stream",
     "text": [
      "peanut butter\n",
      "peanut butter jelly\n",
      "peanut butter jelly herbs\n"
     ]
    }
   ],
   "source": [
    "def person_sandwich(*list):\n",
    "    print(*list)\n",
    "person_sandwich('peanut', 'butter')\n",
    "person_sandwich('peanut', 'butter', 'jelly')\n",
    "person_sandwich('peanut', 'butter', 'jelly', 'herbs')\n"
   ]
  },
  {
   "cell_type": "code",
   "execution_count": 19,
   "metadata": {},
   "outputs": [
    {
     "name": "stdout",
     "output_type": "stream",
     "text": [
      "{'first_name': 'Musa', 'last_name': 'Adamu', 'age': 30, 'occupation': 'Engineer', 'country': 'Nigeria'}\n"
     ]
    }
   ],
   "source": [
    "import user_profile\n",
    "from user_profile import build_profile\n",
    "# Call build_profile() to create a profile of yourself\n",
    "my_profile = build_profile('Musa', 'Adamu', age=30, occupation='Engineer', country='Nigeria')\n",
    "\n",
    "# Print the profile\n",
    "print(my_profile)"
   ]
  },
  {
   "cell_type": "code",
   "execution_count": 18,
   "metadata": {},
   "outputs": [
    {
     "name": "stdout",
     "output_type": "stream",
     "text": [
      "{'manufacturer': subaru, 'model': outlook, 'name1': name1, 'name2': name2}\n"
     ]
    }
   ],
   "source": [
    "def make_car(manufacturer, model, **additionalargs):\n",
    "    name1 = \"name1\"\n",
    "    name2 = \"name2\"\n",
    "    car_info = f\"{{'manufacturer': {manufacturer}, 'model': {model}, 'name1': {name1}, 'name2': {name2}}}\"\n",
    "    return car_info\n",
    "\n",
    "car = make_car('subaru', 'outlook', color='blue', tow_package=True)\n",
    "print(car)"
   ]
  },
  {
   "cell_type": "markdown",
   "metadata": {},
   "source": [
    "### Try it yourself 8-15 - 8-16"
   ]
  },
  {
   "cell_type": "code",
   "execution_count": 20,
   "metadata": {},
   "outputs": [
    {
     "name": "stdout",
     "output_type": "stream",
     "text": [
      "musa\n",
      "adamu\n",
      "hassan\n",
      "ahmad\n",
      "idriss\n",
      "None\n"
     ]
    }
   ],
   "source": [
    "'''8-15. Printing_models.py and printing_functions.py has been written and an import statement was written and \n",
    "done with the file modified as suggested. They all .py files within the folder'''\n",
    "import printing_functions\n",
    "from printing_functions import out_list\n",
    "list = ['musa', 'adamu', 'hassan', 'ahmad', 'idriss']\n",
    "print(out_list(list))"
   ]
  },
  {
   "cell_type": "code",
   "execution_count": 21,
   "metadata": {},
   "outputs": [],
   "source": [
    "import printing_functions\n",
    "from printing_functions import out_list\n",
    "from printing_functions import out_list as ol\n",
    "import printing_functions as pf\n",
    "from printing_functions import *\n"
   ]
  }
 ],
 "metadata": {
  "kernelspec": {
   "display_name": "Python 3",
   "language": "python",
   "name": "python3"
  },
  "language_info": {
   "codemirror_mode": {
    "name": "ipython",
    "version": 3
   },
   "file_extension": ".py",
   "mimetype": "text/x-python",
   "name": "python",
   "nbconvert_exporter": "python",
   "pygments_lexer": "ipython3",
   "version": "3.9.18"
  }
 },
 "nbformat": 4,
 "nbformat_minor": 2
}
